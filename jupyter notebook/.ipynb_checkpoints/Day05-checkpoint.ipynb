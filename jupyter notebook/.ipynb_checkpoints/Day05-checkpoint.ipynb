{
 "cells": [
  {
   "cell_type": "markdown",
   "metadata": {},
   "source": [
    "## 练习\n",
    "\n",
    "### 练习清单\n",
    "\n",
    "1. 寻找[“水仙花数”](https://baike.baidu.com/item/%E6%B0%B4%E4%BB%99%E8%8A%B1%E6%95%B0)。\n",
    "2. 寻找[“完美数”](https://baike.baidu.com/item/%E5%AE%8C%E5%85%A8%E6%95%B0/370913)。\n",
    "3. [“百钱百鸡”](https://baike.baidu.com/item/%E7%99%BE%E9%B8%A1%E7%99%BE%E9%92%B1/5857320)问题。\n",
    "4. 生成[“斐波拉切数列”](https://baike.baidu.com/item/%E6%96%90%E6%B3%A2%E9%82%A3%E5%A5%91%E6%95%B0%E5%88%97/99145)。\n",
    "5. Craps赌博游戏。"
   ]
  },
  {
   "cell_type": "code",
   "execution_count": 4,
   "metadata": {},
   "outputs": [
    {
     "name": "stdout",
     "output_type": "stream",
     "text": [
      "153\n",
      "370\n",
      "371\n",
      "407\n"
     ]
    }
   ],
   "source": [
    "\"\"\"\n",
    "找出100~999之间的所有水仙花数\n",
    "水仙花数是各位立方和等于这个数本身的数\n",
    "如: 153 = 1**3 + 5**3 + 3**3\n",
    "Author: fanleung\n",
    "\"\"\"\n",
    "import math\n",
    "for x in range(100, 1000):\n",
    "    bai = x // 100\n",
    "    shi = x // 10 % 10\n",
    "    ge = x % 10\n",
    "    if(x == math.pow(bai, 3) + math.pow(shi, 3) + math.pow(ge, 3)):\n",
    "        print(x)"
   ]
  },
  {
   "cell_type": "code",
   "execution_count": 98,
   "metadata": {},
   "outputs": [
    {
     "name": "stderr",
     "output_type": "stream",
     "text": [
      "c:\\users\\asus\\appdata\\local\\programs\\python\\python37\\lib\\site-packages\\ipykernel_launcher.py:4: DeprecationWarning: time.clock has been deprecated in Python 3.3 and will be removed from Python 3.8: use time.perf_counter or time.process_time instead\n",
      "  after removing the cwd from sys.path.\n"
     ]
    },
    {
     "name": "stdout",
     "output_type": "stream",
     "text": [
      "6\n",
      "28\n",
      "496\n",
      "8128\n",
      "执行时间: 4.3242895000003045 秒\n"
     ]
    },
    {
     "name": "stderr",
     "output_type": "stream",
     "text": [
      "c:\\users\\asus\\appdata\\local\\programs\\python\\python37\\lib\\site-packages\\ipykernel_launcher.py:15: DeprecationWarning: time.clock has been deprecated in Python 3.3 and will be removed from Python 3.8: use time.perf_counter or time.process_time instead\n",
      "  from ipykernel import kernelapp as app\n"
     ]
    }
   ],
   "source": [
    "\"\"\"\n",
    "找出1~9999之间的所有完美数\n",
    "完美数是除自身外其他所有因子的和正好等于这个数本身的数\n",
    "例如: 6 = 1 + 2 + 3, 28 = 1 + 2 + 4 + 7 + 14\n",
    "Version: 0.1\n",
    "Author: fanleung\n",
    "Date: 2018-03-02\n",
    "\"\"\"\n",
    "import time\n",
    "import math\n",
    "\n",
    "start = time.clock()\n",
    "\n",
    "for k in range(2, 10000):\n",
    "    sum = 0\n",
    "    for j in range(1, k):\n",
    "        if (k%j == 0):\n",
    "            sum = sum + j\n",
    "#             print(j)\n",
    "#     print(sum, k)\n",
    "    if(sum == k):\n",
    "        print(k)\n",
    "end = time.clock()\n",
    "print(\"执行时间:\", (end - start), \"秒\")"
   ]
  },
  {
   "cell_type": "code",
   "execution_count": 95,
   "metadata": {},
   "outputs": [
    {
     "name": "stdout",
     "output_type": "stream",
     "text": [
      "1\n",
      "6\n",
      "28\n",
      "496\n",
      "8128\n",
      "执行时间: 0.06537290000414941 秒\n"
     ]
    },
    {
     "name": "stderr",
     "output_type": "stream",
     "text": [
      "c:\\users\\asus\\appdata\\local\\programs\\python\\python37\\lib\\site-packages\\ipykernel_launcher.py:12: DeprecationWarning: time.clock has been deprecated in Python 3.3 and will be removed from Python 3.8: use time.perf_counter or time.process_time instead\n",
      "  if sys.path[0] == '':\n",
      "c:\\users\\asus\\appdata\\local\\programs\\python\\python37\\lib\\site-packages\\ipykernel_launcher.py:22: DeprecationWarning: time.clock has been deprecated in Python 3.3 and will be removed from Python 3.8: use time.perf_counter or time.process_time instead\n"
     ]
    }
   ],
   "source": [
    "\"\"\"\n",
    "找出1~9999之间的所有完美数\n",
    "完美数是除自身外其他所有因子的和正好等于这个数本身的数\n",
    "例如: 6 = 1 + 2 + 3, 28 = 1 + 2 + 4 + 7 + 14\n",
    "Version: 0.1\n",
    "Author: 骆昊\n",
    "Date: 2018-03-02\n",
    "\"\"\"\n",
    "import time\n",
    "import math\n",
    "\n",
    "start = time.clock()\n",
    "for num in range(1, 10000):\n",
    "    sum = 0\n",
    "    for factor in range(1, int(math.sqrt(num)) + 1):\n",
    "        if num % factor == 0:\n",
    "            sum += factor\n",
    "            if factor > 1 and num / factor != factor:\n",
    "                sum += num / factor\n",
    "    if sum == num:\n",
    "        print(num)\n",
    "end = time.clock()\n",
    "print(\"执行时间:\", (end - start), \"秒\")\n",
    "\n",
    "# 通过比较上面两种不同的解决方案的执行时间 意识到优化程序的重要性"
   ]
  },
  {
   "cell_type": "code",
   "execution_count": 99,
   "metadata": {},
   "outputs": [
    {
     "name": "stdout",
     "output_type": "stream",
     "text": [
      "公鸡：0只， 母鸡：25只， 小鸡：75只\n",
      "公鸡：4只， 母鸡：18只， 小鸡：78只\n",
      "公鸡：8只， 母鸡：11只， 小鸡：81只\n",
      "公鸡：12只， 母鸡：4只， 小鸡：84只\n"
     ]
    }
   ],
   "source": [
    "\"\"\"\n",
    "求解《百钱百鸡》问题\n",
    "1只公鸡5元 1只母鸡3元 3只小鸡1元 用100元买100只鸡\n",
    "问公鸡 母鸡 小鸡各有多少只\n",
    "author： fanleung\n",
    "\"\"\"\n",
    "for gongji in range(0, 100//5):\n",
    "    for muji in range(0, 100//3):\n",
    "        xiaoji = 100 - gongji - muji\n",
    "        if gongji * 5 + muji * 3 + xiaoji / 3 == 100:\n",
    "            print('公鸡：%d只， 母鸡：%d只， 小鸡：%d只' % (gongji, muji, xiaoji))\n",
    "    \n"
   ]
  },
  {
   "cell_type": "code",
   "execution_count": 100,
   "metadata": {},
   "outputs": [
    {
     "name": "stdout",
     "output_type": "stream",
     "text": [
      "公鸡: 0只, 母鸡: 25只, 小鸡: 75只\n",
      "公鸡: 4只, 母鸡: 18只, 小鸡: 78只\n",
      "公鸡: 8只, 母鸡: 11只, 小鸡: 81只\n",
      "公鸡: 12只, 母鸡: 4只, 小鸡: 84只\n"
     ]
    }
   ],
   "source": [
    "\"\"\"\n",
    "求解《百钱百鸡》问题\n",
    "1只公鸡5元 1只母鸡3元 3只小鸡1元 用100元买100只鸡\n",
    "问公鸡 母鸡 小鸡各有多少只\n",
    "Version: 0.1\n",
    "Author: 骆昊\n",
    "Date: 2018-03-02\n",
    "\"\"\"\n",
    "\n",
    "for x in range(0, 20):\n",
    "    for y in range(0, 33):\n",
    "        z = 100 - x - y\n",
    "        if 5 * x + 3 * y + z / 3 == 100:\n",
    "            print('公鸡: %d只, 母鸡: %d只, 小鸡: %d只' % (x, y, z))\n",
    "\n",
    "# 要理解程序背后的算法 - 穷举法"
   ]
  },
  {
   "cell_type": "code",
   "execution_count": 102,
   "metadata": {},
   "outputs": [
    {
     "name": "stdout",
     "output_type": "stream",
     "text": [
      "1 1 2 3 5 8 13 21 34 55 89 144 233 377 610 987 1597 2584 4181 6765 "
     ]
    }
   ],
   "source": [
    "\"\"\"\n",
    "输出斐波那契数列的前20个数\n",
    "1 1 2 3 5 8 13 21 ...\n",
    "\"\"\"\n",
    "a = 0\n",
    "b = 1\n",
    "for _ in range(20):\n",
    "    (a, b) = (b, a +  b)\n",
    "    print(a, end = ' ')"
   ]
  },
  {
   "cell_type": "code",
   "execution_count": null,
   "metadata": {},
   "outputs": [],
   "source": [
    "\"\"\"\n",
    "Craps赌博游戏\n",
    "玩家摇两颗色子 如果第一次摇出7点或11点 玩家胜\n",
    "如果摇出2点 3点 12点 庄家胜 其他情况游戏继续\n",
    "玩家再次要色子 如果摇出7点 庄家胜\n",
    "如果摇出第一次摇的点数 玩家胜\n",
    "否则游戏继续 玩家继续摇色子\n",
    "玩家进入游戏时有1000元的赌注 全部输光游戏结束\n",
    "\"\"\""
   ]
  },
  {
   "cell_type": "code",
   "execution_count": null,
   "metadata": {},
   "outputs": [],
   "source": [
    "\"\"\"\n",
    "判断输入的正整数是不是回文数\n",
    "回文数是指将一个正整数从左往右排列和从右往左排列值一样的数\n",
    "\"\"\""
   ]
  },
  {
   "cell_type": "code",
   "execution_count": 110,
   "metadata": {},
   "outputs": [
    {
     "ename": "IndentationError",
     "evalue": "expected an indented block (<ipython-input-110-f7ddbc3a79d2>, line 6)",
     "output_type": "error",
     "traceback": [
      "\u001b[1;36m  File \u001b[1;32m\"<ipython-input-110-f7ddbc3a79d2>\"\u001b[1;36m, line \u001b[1;32m6\u001b[0m\n\u001b[1;33m    for i in range(2, x):\u001b[0m\n\u001b[1;37m      ^\u001b[0m\n\u001b[1;31mIndentationError\u001b[0m\u001b[1;31m:\u001b[0m expected an indented block\n"
     ]
    }
   ],
   "source": [
    "    \n",
    "\"\"\"\n",
    "输出2~99之间的素数\n",
    "\"\"\"\n",
    "for x in range(2, 100):\n",
    "    for i in range(2, x):\n",
    "        if (x % i != 0):\n",
    "            print(x, end = ' ')"
   ]
  },
  {
   "cell_type": "code",
   "execution_count": null,
   "metadata": {},
   "outputs": [],
   "source": []
  }
 ],
 "metadata": {
  "kernelspec": {
   "display_name": "Python 3",
   "language": "python",
   "name": "python3"
  },
  "language_info": {
   "codemirror_mode": {
    "name": "ipython",
    "version": 3
   },
   "file_extension": ".py",
   "mimetype": "text/x-python",
   "name": "python",
   "nbconvert_exporter": "python",
   "pygments_lexer": "ipython3",
   "version": "3.7.1"
  }
 },
 "nbformat": 4,
 "nbformat_minor": 2
}
